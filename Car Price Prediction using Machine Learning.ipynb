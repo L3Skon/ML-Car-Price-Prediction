{
 "cells": [
  {
   "cell_type": "code",
   "execution_count": 35,
   "id": "52a129fb",
   "metadata": {},
   "outputs": [],
   "source": [
    "import numpy as np \n",
    "import pandas as pd\n",
    "import matplotlib.pyplot as plt \n",
    "import seaborn as sns "
   ]
  },
  {
   "cell_type": "markdown",
   "id": "27f28252",
   "metadata": {},
   "source": [
    "***Read in the car sales data from a CSV file***"
   ]
  },
  {
   "cell_type": "code",
   "execution_count": 36,
   "id": "850dab17",
   "metadata": {},
   "outputs": [],
   "source": [
    "df = pd.read_csv(\"carsels.csv\" ,delimiter=';')"
   ]
  },
  {
   "cell_type": "code",
   "execution_count": 37,
   "id": "0611e6e7",
   "metadata": {},
   "outputs": [
    {
     "data": {
      "text/html": [
       "<div>\n",
       "<style scoped>\n",
       "    .dataframe tbody tr th:only-of-type {\n",
       "        vertical-align: middle;\n",
       "    }\n",
       "\n",
       "    .dataframe tbody tr th {\n",
       "        vertical-align: top;\n",
       "    }\n",
       "\n",
       "    .dataframe thead th {\n",
       "        text-align: right;\n",
       "    }\n",
       "</style>\n",
       "<table border=\"1\" class=\"dataframe\">\n",
       "  <thead>\n",
       "    <tr style=\"text-align: right;\">\n",
       "      <th></th>\n",
       "      <th>Source.Name</th>\n",
       "      <th>model</th>\n",
       "      <th>year</th>\n",
       "      <th>price</th>\n",
       "      <th>transmission</th>\n",
       "      <th>mileage</th>\n",
       "      <th>fuelType</th>\n",
       "      <th>tax</th>\n",
       "      <th>mpg</th>\n",
       "      <th>engineSize</th>\n",
       "    </tr>\n",
       "  </thead>\n",
       "  <tbody>\n",
       "    <tr>\n",
       "      <th>0</th>\n",
       "      <td>audi.csv</td>\n",
       "      <td>A1</td>\n",
       "      <td>2017.0</td>\n",
       "      <td>12500.0</td>\n",
       "      <td>Manual</td>\n",
       "      <td>15735.0</td>\n",
       "      <td>Petrol</td>\n",
       "      <td>150.0</td>\n",
       "      <td>55.4</td>\n",
       "      <td>1.4</td>\n",
       "    </tr>\n",
       "    <tr>\n",
       "      <th>1</th>\n",
       "      <td>audi.csv</td>\n",
       "      <td>A6</td>\n",
       "      <td>2016.0</td>\n",
       "      <td>16500.0</td>\n",
       "      <td>Automatic</td>\n",
       "      <td>36203.0</td>\n",
       "      <td>Diesel</td>\n",
       "      <td>20.0</td>\n",
       "      <td>64.2</td>\n",
       "      <td>2.0</td>\n",
       "    </tr>\n",
       "    <tr>\n",
       "      <th>2</th>\n",
       "      <td>audi.csv</td>\n",
       "      <td>A1</td>\n",
       "      <td>2016.0</td>\n",
       "      <td>11000.0</td>\n",
       "      <td>Manual</td>\n",
       "      <td>29946.0</td>\n",
       "      <td>Petrol</td>\n",
       "      <td>30.0</td>\n",
       "      <td>55.4</td>\n",
       "      <td>1.4</td>\n",
       "    </tr>\n",
       "    <tr>\n",
       "      <th>3</th>\n",
       "      <td>audi.csv</td>\n",
       "      <td>A4</td>\n",
       "      <td>2017.0</td>\n",
       "      <td>16800.0</td>\n",
       "      <td>Automatic</td>\n",
       "      <td>25952.0</td>\n",
       "      <td>Diesel</td>\n",
       "      <td>145.0</td>\n",
       "      <td>67.3</td>\n",
       "      <td>2.0</td>\n",
       "    </tr>\n",
       "    <tr>\n",
       "      <th>4</th>\n",
       "      <td>audi.csv</td>\n",
       "      <td>A3</td>\n",
       "      <td>2019.0</td>\n",
       "      <td>17300.0</td>\n",
       "      <td>Manual</td>\n",
       "      <td>1998.0</td>\n",
       "      <td>Petrol</td>\n",
       "      <td>145.0</td>\n",
       "      <td>49.6</td>\n",
       "      <td>1.0</td>\n",
       "    </tr>\n",
       "  </tbody>\n",
       "</table>\n",
       "</div>"
      ],
      "text/plain": [
       "  Source.Name model    year    price transmission  mileage fuelType    tax  \\\n",
       "0    audi.csv    A1  2017.0  12500.0       Manual  15735.0   Petrol  150.0   \n",
       "1    audi.csv    A6  2016.0  16500.0    Automatic  36203.0   Diesel   20.0   \n",
       "2    audi.csv    A1  2016.0  11000.0       Manual  29946.0   Petrol   30.0   \n",
       "3    audi.csv    A4  2017.0  16800.0    Automatic  25952.0   Diesel  145.0   \n",
       "4    audi.csv    A3  2019.0  17300.0       Manual   1998.0   Petrol  145.0   \n",
       "\n",
       "    mpg  engineSize  \n",
       "0  55.4         1.4  \n",
       "1  64.2         2.0  \n",
       "2  55.4         1.4  \n",
       "3  67.3         2.0  \n",
       "4  49.6         1.0  "
      ]
     },
     "execution_count": 37,
     "metadata": {},
     "output_type": "execute_result"
    },
    {
     "data": {
      "text/html": [
       "<div>\n",
       "<style scoped>\n",
       "    .dataframe tbody tr th:only-of-type {\n",
       "        vertical-align: middle;\n",
       "    }\n",
       "\n",
       "    .dataframe tbody tr th {\n",
       "        vertical-align: top;\n",
       "    }\n",
       "\n",
       "    .dataframe thead th {\n",
       "        text-align: right;\n",
       "    }\n",
       "</style>\n",
       "<table border=\"1\" class=\"dataframe\">\n",
       "  <thead>\n",
       "    <tr style=\"text-align: right;\">\n",
       "      <th></th>\n",
       "      <th>Source.Name</th>\n",
       "      <th>model</th>\n",
       "      <th>year</th>\n",
       "      <th>price</th>\n",
       "      <th>transmission</th>\n",
       "      <th>mileage</th>\n",
       "      <th>fuelType</th>\n",
       "      <th>tax</th>\n",
       "      <th>mpg</th>\n",
       "      <th>engineSize</th>\n",
       "    </tr>\n",
       "  </thead>\n",
       "  <tbody>\n",
       "    <tr>\n",
       "      <th>0</th>\n",
       "      <td>audi.csv</td>\n",
       "      <td>A1</td>\n",
       "      <td>2017.0</td>\n",
       "      <td>12500.0</td>\n",
       "      <td>Manual</td>\n",
       "      <td>15735.0</td>\n",
       "      <td>Petrol</td>\n",
       "      <td>150.0</td>\n",
       "      <td>55.4</td>\n",
       "      <td>1.4</td>\n",
       "    </tr>\n",
       "    <tr>\n",
       "      <th>1</th>\n",
       "      <td>audi.csv</td>\n",
       "      <td>A6</td>\n",
       "      <td>2016.0</td>\n",
       "      <td>16500.0</td>\n",
       "      <td>Automatic</td>\n",
       "      <td>36203.0</td>\n",
       "      <td>Diesel</td>\n",
       "      <td>20.0</td>\n",
       "      <td>64.2</td>\n",
       "      <td>2.0</td>\n",
       "    </tr>\n",
       "    <tr>\n",
       "      <th>2</th>\n",
       "      <td>audi.csv</td>\n",
       "      <td>A1</td>\n",
       "      <td>2016.0</td>\n",
       "      <td>11000.0</td>\n",
       "      <td>Manual</td>\n",
       "      <td>29946.0</td>\n",
       "      <td>Petrol</td>\n",
       "      <td>30.0</td>\n",
       "      <td>55.4</td>\n",
       "      <td>1.4</td>\n",
       "    </tr>\n",
       "    <tr>\n",
       "      <th>3</th>\n",
       "      <td>audi.csv</td>\n",
       "      <td>A4</td>\n",
       "      <td>2017.0</td>\n",
       "      <td>16800.0</td>\n",
       "      <td>Automatic</td>\n",
       "      <td>25952.0</td>\n",
       "      <td>Diesel</td>\n",
       "      <td>145.0</td>\n",
       "      <td>67.3</td>\n",
       "      <td>2.0</td>\n",
       "    </tr>\n",
       "    <tr>\n",
       "      <th>4</th>\n",
       "      <td>audi.csv</td>\n",
       "      <td>A3</td>\n",
       "      <td>2019.0</td>\n",
       "      <td>17300.0</td>\n",
       "      <td>Manual</td>\n",
       "      <td>1998.0</td>\n",
       "      <td>Petrol</td>\n",
       "      <td>145.0</td>\n",
       "      <td>49.6</td>\n",
       "      <td>1.0</td>\n",
       "    </tr>\n",
       "  </tbody>\n",
       "</table>\n",
       "</div>"
      ],
      "text/plain": [
       "  Source.Name model    year    price transmission  mileage fuelType    tax  \\\n",
       "0    audi.csv    A1  2017.0  12500.0       Manual  15735.0   Petrol  150.0   \n",
       "1    audi.csv    A6  2016.0  16500.0    Automatic  36203.0   Diesel   20.0   \n",
       "2    audi.csv    A1  2016.0  11000.0       Manual  29946.0   Petrol   30.0   \n",
       "3    audi.csv    A4  2017.0  16800.0    Automatic  25952.0   Diesel  145.0   \n",
       "4    audi.csv    A3  2019.0  17300.0       Manual   1998.0   Petrol  145.0   \n",
       "\n",
       "    mpg  engineSize  \n",
       "0  55.4         1.4  \n",
       "1  64.2         2.0  \n",
       "2  55.4         1.4  \n",
       "3  67.3         2.0  \n",
       "4  49.6         1.0  "
      ]
     },
     "execution_count": 37,
     "metadata": {},
     "output_type": "execute_result"
    }
   ],
   "source": [
    "df.head()"
   ]
  },
  {
   "cell_type": "markdown",
   "id": "55574df9",
   "metadata": {},
   "source": [
    "***Select only the columns we want to use for modeling***"
   ]
  },
  {
   "cell_type": "code",
   "execution_count": 38,
   "id": "950bff33",
   "metadata": {},
   "outputs": [],
   "source": [
    "df = df[[\"Source.Name\", \"model\", \"year\", \"transmission\", \"mileage\", \"price\"]]"
   ]
  },
  {
   "cell_type": "code",
   "execution_count": 39,
   "id": "352cf9a4",
   "metadata": {},
   "outputs": [
    {
     "data": {
      "text/html": [
       "<div>\n",
       "<style scoped>\n",
       "    .dataframe tbody tr th:only-of-type {\n",
       "        vertical-align: middle;\n",
       "    }\n",
       "\n",
       "    .dataframe tbody tr th {\n",
       "        vertical-align: top;\n",
       "    }\n",
       "\n",
       "    .dataframe thead th {\n",
       "        text-align: right;\n",
       "    }\n",
       "</style>\n",
       "<table border=\"1\" class=\"dataframe\">\n",
       "  <thead>\n",
       "    <tr style=\"text-align: right;\">\n",
       "      <th></th>\n",
       "      <th>Source.Name</th>\n",
       "      <th>model</th>\n",
       "      <th>year</th>\n",
       "      <th>transmission</th>\n",
       "      <th>mileage</th>\n",
       "      <th>price</th>\n",
       "    </tr>\n",
       "  </thead>\n",
       "  <tbody>\n",
       "    <tr>\n",
       "      <th>0</th>\n",
       "      <td>audi.csv</td>\n",
       "      <td>A1</td>\n",
       "      <td>2017.0</td>\n",
       "      <td>Manual</td>\n",
       "      <td>15735.0</td>\n",
       "      <td>12500.0</td>\n",
       "    </tr>\n",
       "    <tr>\n",
       "      <th>1</th>\n",
       "      <td>audi.csv</td>\n",
       "      <td>A6</td>\n",
       "      <td>2016.0</td>\n",
       "      <td>Automatic</td>\n",
       "      <td>36203.0</td>\n",
       "      <td>16500.0</td>\n",
       "    </tr>\n",
       "    <tr>\n",
       "      <th>2</th>\n",
       "      <td>audi.csv</td>\n",
       "      <td>A1</td>\n",
       "      <td>2016.0</td>\n",
       "      <td>Manual</td>\n",
       "      <td>29946.0</td>\n",
       "      <td>11000.0</td>\n",
       "    </tr>\n",
       "    <tr>\n",
       "      <th>3</th>\n",
       "      <td>audi.csv</td>\n",
       "      <td>A4</td>\n",
       "      <td>2017.0</td>\n",
       "      <td>Automatic</td>\n",
       "      <td>25952.0</td>\n",
       "      <td>16800.0</td>\n",
       "    </tr>\n",
       "    <tr>\n",
       "      <th>4</th>\n",
       "      <td>audi.csv</td>\n",
       "      <td>A3</td>\n",
       "      <td>2019.0</td>\n",
       "      <td>Manual</td>\n",
       "      <td>1998.0</td>\n",
       "      <td>17300.0</td>\n",
       "    </tr>\n",
       "  </tbody>\n",
       "</table>\n",
       "</div>"
      ],
      "text/plain": [
       "  Source.Name model    year transmission  mileage    price\n",
       "0    audi.csv    A1  2017.0       Manual  15735.0  12500.0\n",
       "1    audi.csv    A6  2016.0    Automatic  36203.0  16500.0\n",
       "2    audi.csv    A1  2016.0       Manual  29946.0  11000.0\n",
       "3    audi.csv    A4  2017.0    Automatic  25952.0  16800.0\n",
       "4    audi.csv    A3  2019.0       Manual   1998.0  17300.0"
      ]
     },
     "execution_count": 39,
     "metadata": {},
     "output_type": "execute_result"
    },
    {
     "data": {
      "text/html": [
       "<div>\n",
       "<style scoped>\n",
       "    .dataframe tbody tr th:only-of-type {\n",
       "        vertical-align: middle;\n",
       "    }\n",
       "\n",
       "    .dataframe tbody tr th {\n",
       "        vertical-align: top;\n",
       "    }\n",
       "\n",
       "    .dataframe thead th {\n",
       "        text-align: right;\n",
       "    }\n",
       "</style>\n",
       "<table border=\"1\" class=\"dataframe\">\n",
       "  <thead>\n",
       "    <tr style=\"text-align: right;\">\n",
       "      <th></th>\n",
       "      <th>Source.Name</th>\n",
       "      <th>model</th>\n",
       "      <th>year</th>\n",
       "      <th>transmission</th>\n",
       "      <th>mileage</th>\n",
       "      <th>price</th>\n",
       "    </tr>\n",
       "  </thead>\n",
       "  <tbody>\n",
       "    <tr>\n",
       "      <th>0</th>\n",
       "      <td>audi.csv</td>\n",
       "      <td>A1</td>\n",
       "      <td>2017.0</td>\n",
       "      <td>Manual</td>\n",
       "      <td>15735.0</td>\n",
       "      <td>12500.0</td>\n",
       "    </tr>\n",
       "    <tr>\n",
       "      <th>1</th>\n",
       "      <td>audi.csv</td>\n",
       "      <td>A6</td>\n",
       "      <td>2016.0</td>\n",
       "      <td>Automatic</td>\n",
       "      <td>36203.0</td>\n",
       "      <td>16500.0</td>\n",
       "    </tr>\n",
       "    <tr>\n",
       "      <th>2</th>\n",
       "      <td>audi.csv</td>\n",
       "      <td>A1</td>\n",
       "      <td>2016.0</td>\n",
       "      <td>Manual</td>\n",
       "      <td>29946.0</td>\n",
       "      <td>11000.0</td>\n",
       "    </tr>\n",
       "    <tr>\n",
       "      <th>3</th>\n",
       "      <td>audi.csv</td>\n",
       "      <td>A4</td>\n",
       "      <td>2017.0</td>\n",
       "      <td>Automatic</td>\n",
       "      <td>25952.0</td>\n",
       "      <td>16800.0</td>\n",
       "    </tr>\n",
       "    <tr>\n",
       "      <th>4</th>\n",
       "      <td>audi.csv</td>\n",
       "      <td>A3</td>\n",
       "      <td>2019.0</td>\n",
       "      <td>Manual</td>\n",
       "      <td>1998.0</td>\n",
       "      <td>17300.0</td>\n",
       "    </tr>\n",
       "  </tbody>\n",
       "</table>\n",
       "</div>"
      ],
      "text/plain": [
       "  Source.Name model    year transmission  mileage    price\n",
       "0    audi.csv    A1  2017.0       Manual  15735.0  12500.0\n",
       "1    audi.csv    A6  2016.0    Automatic  36203.0  16500.0\n",
       "2    audi.csv    A1  2016.0       Manual  29946.0  11000.0\n",
       "3    audi.csv    A4  2017.0    Automatic  25952.0  16800.0\n",
       "4    audi.csv    A3  2019.0       Manual   1998.0  17300.0"
      ]
     },
     "execution_count": 39,
     "metadata": {},
     "output_type": "execute_result"
    }
   ],
   "source": [
    "df.head(5)"
   ]
  },
  {
   "cell_type": "code",
   "execution_count": 40,
   "id": "ca534467",
   "metadata": {},
   "outputs": [
    {
     "data": {
      "text/plain": [
       "118150"
      ]
     },
     "execution_count": 40,
     "metadata": {},
     "output_type": "execute_result"
    },
    {
     "data": {
      "text/plain": [
       "118150"
      ]
     },
     "execution_count": 40,
     "metadata": {},
     "output_type": "execute_result"
    }
   ],
   "source": [
    "df.shape[0]"
   ]
  },
  {
   "cell_type": "code",
   "execution_count": 41,
   "id": "7d6ee976",
   "metadata": {},
   "outputs": [
    {
     "data": {
      "text/plain": [
       "Source.Name        0\n",
       "model            155\n",
       "year             247\n",
       "transmission     155\n",
       "mileage         1077\n",
       "price           9610\n",
       "dtype: int64"
      ]
     },
     "execution_count": 41,
     "metadata": {},
     "output_type": "execute_result"
    },
    {
     "data": {
      "text/plain": [
       "Source.Name        0\n",
       "model            155\n",
       "year             247\n",
       "transmission     155\n",
       "mileage         1077\n",
       "price           9610\n",
       "dtype: int64"
      ]
     },
     "execution_count": 41,
     "metadata": {},
     "output_type": "execute_result"
    }
   ],
   "source": [
    "df.isnull().sum()"
   ]
  },
  {
   "cell_type": "markdown",
   "id": "54a2163e",
   "metadata": {},
   "source": [
    "***Drop rows with missing values***"
   ]
  },
  {
   "cell_type": "code",
   "execution_count": 42,
   "id": "0962fb60",
   "metadata": {},
   "outputs": [],
   "source": [
    "df=df.dropna()"
   ]
  },
  {
   "cell_type": "code",
   "execution_count": 43,
   "id": "3e555aa7",
   "metadata": {},
   "outputs": [
    {
     "data": {
      "text/plain": [
       "Source.Name     0\n",
       "model           0\n",
       "year            0\n",
       "transmission    0\n",
       "mileage         0\n",
       "price           0\n",
       "dtype: int64"
      ]
     },
     "execution_count": 43,
     "metadata": {},
     "output_type": "execute_result"
    },
    {
     "data": {
      "text/plain": [
       "Source.Name     0\n",
       "model           0\n",
       "year            0\n",
       "transmission    0\n",
       "mileage         0\n",
       "price           0\n",
       "dtype: int64"
      ]
     },
     "execution_count": 43,
     "metadata": {},
     "output_type": "execute_result"
    }
   ],
   "source": [
    "df.isnull().sum()"
   ]
  },
  {
   "cell_type": "code",
   "execution_count": 44,
   "id": "953a41b1",
   "metadata": {},
   "outputs": [
    {
     "data": {
      "text/html": [
       "<div>\n",
       "<style scoped>\n",
       "    .dataframe tbody tr th:only-of-type {\n",
       "        vertical-align: middle;\n",
       "    }\n",
       "\n",
       "    .dataframe tbody tr th {\n",
       "        vertical-align: top;\n",
       "    }\n",
       "\n",
       "    .dataframe thead th {\n",
       "        text-align: right;\n",
       "    }\n",
       "</style>\n",
       "<table border=\"1\" class=\"dataframe\">\n",
       "  <thead>\n",
       "    <tr style=\"text-align: right;\">\n",
       "      <th></th>\n",
       "      <th>Source.Name</th>\n",
       "      <th>model</th>\n",
       "      <th>year</th>\n",
       "      <th>transmission</th>\n",
       "      <th>mileage</th>\n",
       "      <th>price</th>\n",
       "    </tr>\n",
       "  </thead>\n",
       "  <tbody>\n",
       "    <tr>\n",
       "      <th>0</th>\n",
       "      <td>audi.csv</td>\n",
       "      <td>A1</td>\n",
       "      <td>2017.0</td>\n",
       "      <td>Manual</td>\n",
       "      <td>15735.0</td>\n",
       "      <td>12500.0</td>\n",
       "    </tr>\n",
       "    <tr>\n",
       "      <th>1</th>\n",
       "      <td>audi.csv</td>\n",
       "      <td>A6</td>\n",
       "      <td>2016.0</td>\n",
       "      <td>Automatic</td>\n",
       "      <td>36203.0</td>\n",
       "      <td>16500.0</td>\n",
       "    </tr>\n",
       "    <tr>\n",
       "      <th>2</th>\n",
       "      <td>audi.csv</td>\n",
       "      <td>A1</td>\n",
       "      <td>2016.0</td>\n",
       "      <td>Manual</td>\n",
       "      <td>29946.0</td>\n",
       "      <td>11000.0</td>\n",
       "    </tr>\n",
       "    <tr>\n",
       "      <th>3</th>\n",
       "      <td>audi.csv</td>\n",
       "      <td>A4</td>\n",
       "      <td>2017.0</td>\n",
       "      <td>Automatic</td>\n",
       "      <td>25952.0</td>\n",
       "      <td>16800.0</td>\n",
       "    </tr>\n",
       "    <tr>\n",
       "      <th>4</th>\n",
       "      <td>audi.csv</td>\n",
       "      <td>A3</td>\n",
       "      <td>2019.0</td>\n",
       "      <td>Manual</td>\n",
       "      <td>1998.0</td>\n",
       "      <td>17300.0</td>\n",
       "    </tr>\n",
       "  </tbody>\n",
       "</table>\n",
       "</div>"
      ],
      "text/plain": [
       "  Source.Name model    year transmission  mileage    price\n",
       "0    audi.csv    A1  2017.0       Manual  15735.0  12500.0\n",
       "1    audi.csv    A6  2016.0    Automatic  36203.0  16500.0\n",
       "2    audi.csv    A1  2016.0       Manual  29946.0  11000.0\n",
       "3    audi.csv    A4  2017.0    Automatic  25952.0  16800.0\n",
       "4    audi.csv    A3  2019.0       Manual   1998.0  17300.0"
      ]
     },
     "execution_count": 44,
     "metadata": {},
     "output_type": "execute_result"
    },
    {
     "data": {
      "text/html": [
       "<div>\n",
       "<style scoped>\n",
       "    .dataframe tbody tr th:only-of-type {\n",
       "        vertical-align: middle;\n",
       "    }\n",
       "\n",
       "    .dataframe tbody tr th {\n",
       "        vertical-align: top;\n",
       "    }\n",
       "\n",
       "    .dataframe thead th {\n",
       "        text-align: right;\n",
       "    }\n",
       "</style>\n",
       "<table border=\"1\" class=\"dataframe\">\n",
       "  <thead>\n",
       "    <tr style=\"text-align: right;\">\n",
       "      <th></th>\n",
       "      <th>Source.Name</th>\n",
       "      <th>model</th>\n",
       "      <th>year</th>\n",
       "      <th>transmission</th>\n",
       "      <th>mileage</th>\n",
       "      <th>price</th>\n",
       "    </tr>\n",
       "  </thead>\n",
       "  <tbody>\n",
       "    <tr>\n",
       "      <th>0</th>\n",
       "      <td>audi.csv</td>\n",
       "      <td>A1</td>\n",
       "      <td>2017.0</td>\n",
       "      <td>Manual</td>\n",
       "      <td>15735.0</td>\n",
       "      <td>12500.0</td>\n",
       "    </tr>\n",
       "    <tr>\n",
       "      <th>1</th>\n",
       "      <td>audi.csv</td>\n",
       "      <td>A6</td>\n",
       "      <td>2016.0</td>\n",
       "      <td>Automatic</td>\n",
       "      <td>36203.0</td>\n",
       "      <td>16500.0</td>\n",
       "    </tr>\n",
       "    <tr>\n",
       "      <th>2</th>\n",
       "      <td>audi.csv</td>\n",
       "      <td>A1</td>\n",
       "      <td>2016.0</td>\n",
       "      <td>Manual</td>\n",
       "      <td>29946.0</td>\n",
       "      <td>11000.0</td>\n",
       "    </tr>\n",
       "    <tr>\n",
       "      <th>3</th>\n",
       "      <td>audi.csv</td>\n",
       "      <td>A4</td>\n",
       "      <td>2017.0</td>\n",
       "      <td>Automatic</td>\n",
       "      <td>25952.0</td>\n",
       "      <td>16800.0</td>\n",
       "    </tr>\n",
       "    <tr>\n",
       "      <th>4</th>\n",
       "      <td>audi.csv</td>\n",
       "      <td>A3</td>\n",
       "      <td>2019.0</td>\n",
       "      <td>Manual</td>\n",
       "      <td>1998.0</td>\n",
       "      <td>17300.0</td>\n",
       "    </tr>\n",
       "  </tbody>\n",
       "</table>\n",
       "</div>"
      ],
      "text/plain": [
       "  Source.Name model    year transmission  mileage    price\n",
       "0    audi.csv    A1  2017.0       Manual  15735.0  12500.0\n",
       "1    audi.csv    A6  2016.0    Automatic  36203.0  16500.0\n",
       "2    audi.csv    A1  2016.0       Manual  29946.0  11000.0\n",
       "3    audi.csv    A4  2017.0    Automatic  25952.0  16800.0\n",
       "4    audi.csv    A3  2019.0       Manual   1998.0  17300.0"
      ]
     },
     "execution_count": 44,
     "metadata": {},
     "output_type": "execute_result"
    }
   ],
   "source": [
    "df.head(5)"
   ]
  },
  {
   "cell_type": "code",
   "execution_count": 45,
   "id": "b18a46d1",
   "metadata": {},
   "outputs": [
    {
     "data": {
      "text/plain": [
       "{'audi.csv',\n",
       " 'bmw.csv',\n",
       " 'cclass.csv',\n",
       " 'focus.csv',\n",
       " 'ford.csv',\n",
       " 'hyundi.csv',\n",
       " 'merc.csv',\n",
       " 'skoda.csv',\n",
       " 'toyota.csv',\n",
       " 'vauxhall.csv',\n",
       " 'vw.csv'}"
      ]
     },
     "execution_count": 45,
     "metadata": {},
     "output_type": "execute_result"
    },
    {
     "data": {
      "text/plain": [
       "{'audi.csv',\n",
       " 'bmw.csv',\n",
       " 'cclass.csv',\n",
       " 'focus.csv',\n",
       " 'ford.csv',\n",
       " 'hyundi.csv',\n",
       " 'merc.csv',\n",
       " 'skoda.csv',\n",
       " 'toyota.csv',\n",
       " 'vauxhall.csv',\n",
       " 'vw.csv'}"
      ]
     },
     "execution_count": 45,
     "metadata": {},
     "output_type": "execute_result"
    }
   ],
   "source": [
    "set(df['Source.Name'])"
   ]
  },
  {
   "cell_type": "markdown",
   "id": "715334d8",
   "metadata": {},
   "source": [
    "***Clean up the source names and rename it to car***"
   ]
  },
  {
   "cell_type": "code",
   "execution_count": 46,
   "id": "3a07ef4b",
   "metadata": {},
   "outputs": [],
   "source": [
    "def source(ch):\n",
    "    return ch[:-4] "
   ]
  },
  {
   "cell_type": "code",
   "execution_count": 47,
   "id": "8f12d58e",
   "metadata": {},
   "outputs": [],
   "source": [
    "df['Source.Name']=df['Source.Name'].apply(lambda x : source(x))"
   ]
  },
  {
   "cell_type": "code",
   "execution_count": 48,
   "id": "b3c1c007",
   "metadata": {},
   "outputs": [],
   "source": [
    "df = df.rename({\"Source.Name\": \"car\"}, axis=1)"
   ]
  },
  {
   "cell_type": "code",
   "execution_count": 49,
   "id": "5ed41ae4",
   "metadata": {},
   "outputs": [
    {
     "data": {
      "text/html": [
       "<div>\n",
       "<style scoped>\n",
       "    .dataframe tbody tr th:only-of-type {\n",
       "        vertical-align: middle;\n",
       "    }\n",
       "\n",
       "    .dataframe tbody tr th {\n",
       "        vertical-align: top;\n",
       "    }\n",
       "\n",
       "    .dataframe thead th {\n",
       "        text-align: right;\n",
       "    }\n",
       "</style>\n",
       "<table border=\"1\" class=\"dataframe\">\n",
       "  <thead>\n",
       "    <tr style=\"text-align: right;\">\n",
       "      <th></th>\n",
       "      <th>car</th>\n",
       "      <th>model</th>\n",
       "      <th>year</th>\n",
       "      <th>transmission</th>\n",
       "      <th>mileage</th>\n",
       "      <th>price</th>\n",
       "    </tr>\n",
       "  </thead>\n",
       "  <tbody>\n",
       "    <tr>\n",
       "      <th>0</th>\n",
       "      <td>audi</td>\n",
       "      <td>A1</td>\n",
       "      <td>2017.0</td>\n",
       "      <td>Manual</td>\n",
       "      <td>15735.0</td>\n",
       "      <td>12500.0</td>\n",
       "    </tr>\n",
       "    <tr>\n",
       "      <th>1</th>\n",
       "      <td>audi</td>\n",
       "      <td>A6</td>\n",
       "      <td>2016.0</td>\n",
       "      <td>Automatic</td>\n",
       "      <td>36203.0</td>\n",
       "      <td>16500.0</td>\n",
       "    </tr>\n",
       "    <tr>\n",
       "      <th>2</th>\n",
       "      <td>audi</td>\n",
       "      <td>A1</td>\n",
       "      <td>2016.0</td>\n",
       "      <td>Manual</td>\n",
       "      <td>29946.0</td>\n",
       "      <td>11000.0</td>\n",
       "    </tr>\n",
       "    <tr>\n",
       "      <th>3</th>\n",
       "      <td>audi</td>\n",
       "      <td>A4</td>\n",
       "      <td>2017.0</td>\n",
       "      <td>Automatic</td>\n",
       "      <td>25952.0</td>\n",
       "      <td>16800.0</td>\n",
       "    </tr>\n",
       "    <tr>\n",
       "      <th>4</th>\n",
       "      <td>audi</td>\n",
       "      <td>A3</td>\n",
       "      <td>2019.0</td>\n",
       "      <td>Manual</td>\n",
       "      <td>1998.0</td>\n",
       "      <td>17300.0</td>\n",
       "    </tr>\n",
       "  </tbody>\n",
       "</table>\n",
       "</div>"
      ],
      "text/plain": [
       "    car model    year transmission  mileage    price\n",
       "0  audi    A1  2017.0       Manual  15735.0  12500.0\n",
       "1  audi    A6  2016.0    Automatic  36203.0  16500.0\n",
       "2  audi    A1  2016.0       Manual  29946.0  11000.0\n",
       "3  audi    A4  2017.0    Automatic  25952.0  16800.0\n",
       "4  audi    A3  2019.0       Manual   1998.0  17300.0"
      ]
     },
     "execution_count": 49,
     "metadata": {},
     "output_type": "execute_result"
    },
    {
     "data": {
      "text/html": [
       "<div>\n",
       "<style scoped>\n",
       "    .dataframe tbody tr th:only-of-type {\n",
       "        vertical-align: middle;\n",
       "    }\n",
       "\n",
       "    .dataframe tbody tr th {\n",
       "        vertical-align: top;\n",
       "    }\n",
       "\n",
       "    .dataframe thead th {\n",
       "        text-align: right;\n",
       "    }\n",
       "</style>\n",
       "<table border=\"1\" class=\"dataframe\">\n",
       "  <thead>\n",
       "    <tr style=\"text-align: right;\">\n",
       "      <th></th>\n",
       "      <th>car</th>\n",
       "      <th>model</th>\n",
       "      <th>year</th>\n",
       "      <th>transmission</th>\n",
       "      <th>mileage</th>\n",
       "      <th>price</th>\n",
       "    </tr>\n",
       "  </thead>\n",
       "  <tbody>\n",
       "    <tr>\n",
       "      <th>0</th>\n",
       "      <td>audi</td>\n",
       "      <td>A1</td>\n",
       "      <td>2017.0</td>\n",
       "      <td>Manual</td>\n",
       "      <td>15735.0</td>\n",
       "      <td>12500.0</td>\n",
       "    </tr>\n",
       "    <tr>\n",
       "      <th>1</th>\n",
       "      <td>audi</td>\n",
       "      <td>A6</td>\n",
       "      <td>2016.0</td>\n",
       "      <td>Automatic</td>\n",
       "      <td>36203.0</td>\n",
       "      <td>16500.0</td>\n",
       "    </tr>\n",
       "    <tr>\n",
       "      <th>2</th>\n",
       "      <td>audi</td>\n",
       "      <td>A1</td>\n",
       "      <td>2016.0</td>\n",
       "      <td>Manual</td>\n",
       "      <td>29946.0</td>\n",
       "      <td>11000.0</td>\n",
       "    </tr>\n",
       "    <tr>\n",
       "      <th>3</th>\n",
       "      <td>audi</td>\n",
       "      <td>A4</td>\n",
       "      <td>2017.0</td>\n",
       "      <td>Automatic</td>\n",
       "      <td>25952.0</td>\n",
       "      <td>16800.0</td>\n",
       "    </tr>\n",
       "    <tr>\n",
       "      <th>4</th>\n",
       "      <td>audi</td>\n",
       "      <td>A3</td>\n",
       "      <td>2019.0</td>\n",
       "      <td>Manual</td>\n",
       "      <td>1998.0</td>\n",
       "      <td>17300.0</td>\n",
       "    </tr>\n",
       "  </tbody>\n",
       "</table>\n",
       "</div>"
      ],
      "text/plain": [
       "    car model    year transmission  mileage    price\n",
       "0  audi    A1  2017.0       Manual  15735.0  12500.0\n",
       "1  audi    A6  2016.0    Automatic  36203.0  16500.0\n",
       "2  audi    A1  2016.0       Manual  29946.0  11000.0\n",
       "3  audi    A4  2017.0    Automatic  25952.0  16800.0\n",
       "4  audi    A3  2019.0       Manual   1998.0  17300.0"
      ]
     },
     "execution_count": 49,
     "metadata": {},
     "output_type": "execute_result"
    }
   ],
   "source": [
    "df.head(5)"
   ]
  },
  {
   "cell_type": "code",
   "execution_count": 50,
   "id": "3d35784e",
   "metadata": {},
   "outputs": [
    {
     "data": {
      "text/plain": [
       " Focus      10042\n",
       " C Class     7646\n",
       " Fiesta      6557\n",
       " Golf        4863\n",
       " Corsa       3441\n",
       "            ...  \n",
       "180             1\n",
       "230             1\n",
       "220             1\n",
       "200             1\n",
       " Accent         1\n",
       "Name: model, Length: 195, dtype: int64"
      ]
     },
     "execution_count": 50,
     "metadata": {},
     "output_type": "execute_result"
    },
    {
     "data": {
      "text/plain": [
       " Focus      10042\n",
       " C Class     7646\n",
       " Fiesta      6557\n",
       " Golf        4863\n",
       " Corsa       3441\n",
       "            ...  \n",
       "180             1\n",
       "230             1\n",
       "220             1\n",
       "200             1\n",
       " Accent         1\n",
       "Name: model, Length: 195, dtype: int64"
      ]
     },
     "execution_count": 50,
     "metadata": {},
     "output_type": "execute_result"
    }
   ],
   "source": [
    "df.model.value_counts()"
   ]
  },
  {
   "cell_type": "code",
   "execution_count": 51,
   "id": "d9550505",
   "metadata": {},
   "outputs": [],
   "source": [
    "df.car=df.car.apply(lambda x : \"merc\" if x==\"cclass\" else x)"
   ]
  },
  {
   "cell_type": "markdown",
   "id": "86ea7dbb",
   "metadata": {},
   "source": [
    "***Drop rows with invalid years***"
   ]
  },
  {
   "cell_type": "code",
   "execution_count": 52,
   "id": "8815bd03",
   "metadata": {},
   "outputs": [],
   "source": [
    "i=df[df.year<2005].index\n",
    "df=df.drop(i)"
   ]
  },
  {
   "cell_type": "code",
   "execution_count": 53,
   "id": "282b1c3e",
   "metadata": {},
   "outputs": [],
   "source": [
    "i=df[df.year==2060].index\n",
    "df=df.drop(i)"
   ]
  },
  {
   "cell_type": "markdown",
   "id": "940cf6cf",
   "metadata": {},
   "source": [
    "***Encode categorical variables using label encoding***"
   ]
  },
  {
   "cell_type": "code",
   "execution_count": 54,
   "id": "a270fba5",
   "metadata": {},
   "outputs": [
    {
     "data": {
      "text/plain": [
       "{'audi': 0,\n",
       " 'bmw': 1,\n",
       " 'focus': 2,\n",
       " 'ford': 3,\n",
       " 'hyundi': 4,\n",
       " 'merc': 5,\n",
       " 'skoda': 6,\n",
       " 'toyota': 7,\n",
       " 'vauxhall': 8,\n",
       " 'vw': 9}"
      ]
     },
     "execution_count": 54,
     "metadata": {},
     "output_type": "execute_result"
    },
    {
     "data": {
      "text/plain": [
       "{'audi': 0,\n",
       " 'bmw': 1,\n",
       " 'focus': 2,\n",
       " 'ford': 3,\n",
       " 'hyundi': 4,\n",
       " 'merc': 5,\n",
       " 'skoda': 6,\n",
       " 'toyota': 7,\n",
       " 'vauxhall': 8,\n",
       " 'vw': 9}"
      ]
     },
     "execution_count": 54,
     "metadata": {},
     "output_type": "execute_result"
    }
   ],
   "source": [
    "from sklearn.preprocessing import LabelEncoder\n",
    "le_cars = LabelEncoder()\n",
    "df['car_encoded'] = le_cars.fit_transform(df['car'])\n",
    "label_map_cars = dict(zip(le_cars.classes_, le_cars.transform(le_cars.classes_)))\n",
    "label_map_cars\n"
   ]
  },
  {
   "cell_type": "code",
   "execution_count": 55,
   "id": "c1fe8c65",
   "metadata": {},
   "outputs": [
    {
     "data": {
      "text/plain": [
       "{' 1 Series': 0,\n",
       " ' 2 Series': 1,\n",
       " ' 3 Series': 2,\n",
       " ' 4 Series': 3,\n",
       " ' 5 Series': 4,\n",
       " ' 6 Series': 5,\n",
       " ' 7 Series': 6,\n",
       " ' 8 Series': 7,\n",
       " ' A Class': 8,\n",
       " ' A1': 9,\n",
       " ' A3': 10,\n",
       " ' A4': 11,\n",
       " ' A5': 12,\n",
       " ' A6': 13,\n",
       " ' A7': 14,\n",
       " ' A8': 15,\n",
       " ' Adam': 16,\n",
       " ' Agila': 17,\n",
       " ' Amarok': 18,\n",
       " ' Amica': 19,\n",
       " ' Ampera': 20,\n",
       " ' Antara': 21,\n",
       " ' Arteon': 22,\n",
       " ' Astra': 23,\n",
       " ' Auris': 24,\n",
       " ' Avensis': 25,\n",
       " ' Aygo': 26,\n",
       " ' B Class': 27,\n",
       " ' B-MAX': 28,\n",
       " ' Beetle': 29,\n",
       " ' C Class': 30,\n",
       " ' C-HR': 31,\n",
       " ' C-MAX': 32,\n",
       " ' CC': 33,\n",
       " ' CL Class': 34,\n",
       " ' CLA Class': 35,\n",
       " ' CLC Class': 36,\n",
       " ' CLK': 37,\n",
       " ' CLS Class': 38,\n",
       " ' Caddy': 39,\n",
       " ' Caddy Life': 40,\n",
       " ' Caddy Maxi': 41,\n",
       " ' Caddy Maxi Life': 42,\n",
       " ' California': 43,\n",
       " ' Camry': 44,\n",
       " ' Caravelle': 45,\n",
       " ' Cascada': 46,\n",
       " ' Citigo': 47,\n",
       " ' Combo Life': 48,\n",
       " ' Corolla': 49,\n",
       " ' Corsa': 50,\n",
       " ' Crossland X': 51,\n",
       " ' E Class': 52,\n",
       " ' EcoSport': 53,\n",
       " ' Edge': 54,\n",
       " ' Eos': 55,\n",
       " ' Fabia': 56,\n",
       " ' Fiesta': 57,\n",
       " ' Focus': 58,\n",
       " ' Fox': 59,\n",
       " ' Fusion': 60,\n",
       " ' G Class': 61,\n",
       " ' GL Class': 62,\n",
       " ' GLA Class': 63,\n",
       " ' GLB Class': 64,\n",
       " ' GLC Class': 65,\n",
       " ' GLE Class': 66,\n",
       " ' GLS Class': 67,\n",
       " ' GT86': 68,\n",
       " ' GTC': 69,\n",
       " ' Galaxy': 70,\n",
       " ' Getz': 71,\n",
       " ' Golf': 72,\n",
       " ' Golf SV': 73,\n",
       " ' Grand C-MAX': 74,\n",
       " ' Grand Tourneo Connect': 75,\n",
       " ' Grandland X': 76,\n",
       " ' Hilux': 77,\n",
       " ' I10': 78,\n",
       " ' I20': 79,\n",
       " ' I30': 80,\n",
       " ' I40': 81,\n",
       " ' I800': 82,\n",
       " ' IQ': 83,\n",
       " ' IX20': 84,\n",
       " ' IX35': 85,\n",
       " ' Insignia': 86,\n",
       " ' Ioniq': 87,\n",
       " ' Jetta': 88,\n",
       " ' KA': 89,\n",
       " ' Ka+': 90,\n",
       " ' Kadjar': 91,\n",
       " ' Kamiq': 92,\n",
       " ' Karoq': 93,\n",
       " ' Kodiaq': 94,\n",
       " ' Kona': 95,\n",
       " ' Kuga': 96,\n",
       " ' Land Cruiser': 97,\n",
       " ' M Class': 98,\n",
       " ' M2': 99,\n",
       " ' M3': 100,\n",
       " ' M4': 101,\n",
       " ' M5': 102,\n",
       " ' M6': 103,\n",
       " ' Meriva': 104,\n",
       " ' Mokka': 105,\n",
       " ' Mokka X': 106,\n",
       " ' Mondeo': 107,\n",
       " ' Mustang': 108,\n",
       " ' Octavia': 109,\n",
       " ' PROACE VERSO': 110,\n",
       " ' Passat': 111,\n",
       " ' Polo': 112,\n",
       " ' Prius': 113,\n",
       " ' Puma': 114,\n",
       " ' Q2': 115,\n",
       " ' Q3': 116,\n",
       " ' Q5': 117,\n",
       " ' Q7': 118,\n",
       " ' Q8': 119,\n",
       " ' R Class': 120,\n",
       " ' R8': 121,\n",
       " ' RAV4': 122,\n",
       " ' RS3': 123,\n",
       " ' RS4': 124,\n",
       " ' RS5': 125,\n",
       " ' RS6': 126,\n",
       " ' RS7': 127,\n",
       " ' Ranger': 128,\n",
       " ' Rapid': 129,\n",
       " ' Roomster': 130,\n",
       " ' S Class': 131,\n",
       " ' S-MAX': 132,\n",
       " ' S3': 133,\n",
       " ' S4': 134,\n",
       " ' S5': 135,\n",
       " ' S8': 136,\n",
       " ' SL CLASS': 137,\n",
       " ' SLK': 138,\n",
       " ' SQ5': 139,\n",
       " ' SQ7': 140,\n",
       " ' Santa Fe': 141,\n",
       " ' Scala': 142,\n",
       " ' Scirocco': 143,\n",
       " ' Sharan': 144,\n",
       " ' Shuttle': 145,\n",
       " ' Streetka': 146,\n",
       " ' Superb': 147,\n",
       " ' Supra': 148,\n",
       " ' T-Cross': 149,\n",
       " ' T-Roc': 150,\n",
       " ' TT': 151,\n",
       " ' Terracan': 152,\n",
       " ' Tigra': 153,\n",
       " ' Tiguan': 154,\n",
       " ' Tiguan Allspace': 155,\n",
       " ' Touareg': 156,\n",
       " ' Touran': 157,\n",
       " ' Tourneo Connect': 158,\n",
       " ' Tourneo Custom': 159,\n",
       " ' Transit Tourneo': 160,\n",
       " ' Tucson': 161,\n",
       " ' Up': 162,\n",
       " ' Urban Cruiser': 163,\n",
       " ' V Class': 164,\n",
       " ' Vectra': 165,\n",
       " ' Veloster': 166,\n",
       " ' Verso': 167,\n",
       " ' Verso-S': 168,\n",
       " ' Viva': 169,\n",
       " ' Vivaro': 170,\n",
       " ' X-CLASS': 171,\n",
       " ' X1': 172,\n",
       " ' X2': 173,\n",
       " ' X3': 174,\n",
       " ' X4': 175,\n",
       " ' X5': 176,\n",
       " ' X6': 177,\n",
       " ' X7': 178,\n",
       " ' Yaris': 179,\n",
       " ' Yeti': 180,\n",
       " ' Yeti Outdoor': 181,\n",
       " ' Z4': 182,\n",
       " ' Zafira': 183,\n",
       " ' Zafira Tourer': 184,\n",
       " ' i3': 185,\n",
       " ' i8': 186,\n",
       " '180': 187,\n",
       " '200': 188,\n",
       " '220': 189,\n",
       " '230': 190}"
      ]
     },
     "execution_count": 55,
     "metadata": {},
     "output_type": "execute_result"
    },
    {
     "data": {
      "text/plain": [
       "{' 1 Series': 0,\n",
       " ' 2 Series': 1,\n",
       " ' 3 Series': 2,\n",
       " ' 4 Series': 3,\n",
       " ' 5 Series': 4,\n",
       " ' 6 Series': 5,\n",
       " ' 7 Series': 6,\n",
       " ' 8 Series': 7,\n",
       " ' A Class': 8,\n",
       " ' A1': 9,\n",
       " ' A3': 10,\n",
       " ' A4': 11,\n",
       " ' A5': 12,\n",
       " ' A6': 13,\n",
       " ' A7': 14,\n",
       " ' A8': 15,\n",
       " ' Adam': 16,\n",
       " ' Agila': 17,\n",
       " ' Amarok': 18,\n",
       " ' Amica': 19,\n",
       " ' Ampera': 20,\n",
       " ' Antara': 21,\n",
       " ' Arteon': 22,\n",
       " ' Astra': 23,\n",
       " ' Auris': 24,\n",
       " ' Avensis': 25,\n",
       " ' Aygo': 26,\n",
       " ' B Class': 27,\n",
       " ' B-MAX': 28,\n",
       " ' Beetle': 29,\n",
       " ' C Class': 30,\n",
       " ' C-HR': 31,\n",
       " ' C-MAX': 32,\n",
       " ' CC': 33,\n",
       " ' CL Class': 34,\n",
       " ' CLA Class': 35,\n",
       " ' CLC Class': 36,\n",
       " ' CLK': 37,\n",
       " ' CLS Class': 38,\n",
       " ' Caddy': 39,\n",
       " ' Caddy Life': 40,\n",
       " ' Caddy Maxi': 41,\n",
       " ' Caddy Maxi Life': 42,\n",
       " ' California': 43,\n",
       " ' Camry': 44,\n",
       " ' Caravelle': 45,\n",
       " ' Cascada': 46,\n",
       " ' Citigo': 47,\n",
       " ' Combo Life': 48,\n",
       " ' Corolla': 49,\n",
       " ' Corsa': 50,\n",
       " ' Crossland X': 51,\n",
       " ' E Class': 52,\n",
       " ' EcoSport': 53,\n",
       " ' Edge': 54,\n",
       " ' Eos': 55,\n",
       " ' Fabia': 56,\n",
       " ' Fiesta': 57,\n",
       " ' Focus': 58,\n",
       " ' Fox': 59,\n",
       " ' Fusion': 60,\n",
       " ' G Class': 61,\n",
       " ' GL Class': 62,\n",
       " ' GLA Class': 63,\n",
       " ' GLB Class': 64,\n",
       " ' GLC Class': 65,\n",
       " ' GLE Class': 66,\n",
       " ' GLS Class': 67,\n",
       " ' GT86': 68,\n",
       " ' GTC': 69,\n",
       " ' Galaxy': 70,\n",
       " ' Getz': 71,\n",
       " ' Golf': 72,\n",
       " ' Golf SV': 73,\n",
       " ' Grand C-MAX': 74,\n",
       " ' Grand Tourneo Connect': 75,\n",
       " ' Grandland X': 76,\n",
       " ' Hilux': 77,\n",
       " ' I10': 78,\n",
       " ' I20': 79,\n",
       " ' I30': 80,\n",
       " ' I40': 81,\n",
       " ' I800': 82,\n",
       " ' IQ': 83,\n",
       " ' IX20': 84,\n",
       " ' IX35': 85,\n",
       " ' Insignia': 86,\n",
       " ' Ioniq': 87,\n",
       " ' Jetta': 88,\n",
       " ' KA': 89,\n",
       " ' Ka+': 90,\n",
       " ' Kadjar': 91,\n",
       " ' Kamiq': 92,\n",
       " ' Karoq': 93,\n",
       " ' Kodiaq': 94,\n",
       " ' Kona': 95,\n",
       " ' Kuga': 96,\n",
       " ' Land Cruiser': 97,\n",
       " ' M Class': 98,\n",
       " ' M2': 99,\n",
       " ' M3': 100,\n",
       " ' M4': 101,\n",
       " ' M5': 102,\n",
       " ' M6': 103,\n",
       " ' Meriva': 104,\n",
       " ' Mokka': 105,\n",
       " ' Mokka X': 106,\n",
       " ' Mondeo': 107,\n",
       " ' Mustang': 108,\n",
       " ' Octavia': 109,\n",
       " ' PROACE VERSO': 110,\n",
       " ' Passat': 111,\n",
       " ' Polo': 112,\n",
       " ' Prius': 113,\n",
       " ' Puma': 114,\n",
       " ' Q2': 115,\n",
       " ' Q3': 116,\n",
       " ' Q5': 117,\n",
       " ' Q7': 118,\n",
       " ' Q8': 119,\n",
       " ' R Class': 120,\n",
       " ' R8': 121,\n",
       " ' RAV4': 122,\n",
       " ' RS3': 123,\n",
       " ' RS4': 124,\n",
       " ' RS5': 125,\n",
       " ' RS6': 126,\n",
       " ' RS7': 127,\n",
       " ' Ranger': 128,\n",
       " ' Rapid': 129,\n",
       " ' Roomster': 130,\n",
       " ' S Class': 131,\n",
       " ' S-MAX': 132,\n",
       " ' S3': 133,\n",
       " ' S4': 134,\n",
       " ' S5': 135,\n",
       " ' S8': 136,\n",
       " ' SL CLASS': 137,\n",
       " ' SLK': 138,\n",
       " ' SQ5': 139,\n",
       " ' SQ7': 140,\n",
       " ' Santa Fe': 141,\n",
       " ' Scala': 142,\n",
       " ' Scirocco': 143,\n",
       " ' Sharan': 144,\n",
       " ' Shuttle': 145,\n",
       " ' Streetka': 146,\n",
       " ' Superb': 147,\n",
       " ' Supra': 148,\n",
       " ' T-Cross': 149,\n",
       " ' T-Roc': 150,\n",
       " ' TT': 151,\n",
       " ' Terracan': 152,\n",
       " ' Tigra': 153,\n",
       " ' Tiguan': 154,\n",
       " ' Tiguan Allspace': 155,\n",
       " ' Touareg': 156,\n",
       " ' Touran': 157,\n",
       " ' Tourneo Connect': 158,\n",
       " ' Tourneo Custom': 159,\n",
       " ' Transit Tourneo': 160,\n",
       " ' Tucson': 161,\n",
       " ' Up': 162,\n",
       " ' Urban Cruiser': 163,\n",
       " ' V Class': 164,\n",
       " ' Vectra': 165,\n",
       " ' Veloster': 166,\n",
       " ' Verso': 167,\n",
       " ' Verso-S': 168,\n",
       " ' Viva': 169,\n",
       " ' Vivaro': 170,\n",
       " ' X-CLASS': 171,\n",
       " ' X1': 172,\n",
       " ' X2': 173,\n",
       " ' X3': 174,\n",
       " ' X4': 175,\n",
       " ' X5': 176,\n",
       " ' X6': 177,\n",
       " ' X7': 178,\n",
       " ' Yaris': 179,\n",
       " ' Yeti': 180,\n",
       " ' Yeti Outdoor': 181,\n",
       " ' Z4': 182,\n",
       " ' Zafira': 183,\n",
       " ' Zafira Tourer': 184,\n",
       " ' i3': 185,\n",
       " ' i8': 186,\n",
       " '180': 187,\n",
       " '200': 188,\n",
       " '220': 189,\n",
       " '230': 190}"
      ]
     },
     "execution_count": 55,
     "metadata": {},
     "output_type": "execute_result"
    }
   ],
   "source": [
    "df['model_encoded'] = le_cars.fit_transform(df['model'])\n",
    "label_map_models = dict(zip(le_cars.classes_, le_cars.transform(le_cars.classes_)))\n",
    "label_map_models"
   ]
  },
  {
   "cell_type": "code",
   "execution_count": 56,
   "id": "89c4c014",
   "metadata": {},
   "outputs": [
    {
     "data": {
      "text/plain": [
       "{'Automatic': 0, 'Manual': 1, 'Other': 2, 'Semi-Auto': 3}"
      ]
     },
     "execution_count": 56,
     "metadata": {},
     "output_type": "execute_result"
    },
    {
     "data": {
      "text/plain": [
       "{'Automatic': 0, 'Manual': 1, 'Other': 2, 'Semi-Auto': 3}"
      ]
     },
     "execution_count": 56,
     "metadata": {},
     "output_type": "execute_result"
    }
   ],
   "source": [
    "df['transmission_encoded'] = le_cars.fit_transform(df['transmission'])\n",
    "label_map_trans = dict(zip(le_cars.classes_, le_cars.transform(le_cars.classes_)))\n",
    "label_map_trans\n"
   ]
  },
  {
   "cell_type": "markdown",
   "id": "e34ba453",
   "metadata": {},
   "source": [
    "***Define the feature matrix (X) and target vector (y)***"
   ]
  },
  {
   "cell_type": "code",
   "execution_count": 57,
   "id": "3b484878",
   "metadata": {},
   "outputs": [],
   "source": [
    "X=df[['year','mileage','car_encoded','model_encoded','transmission_encoded']]\n",
    "y=df['price']"
   ]
  },
  {
   "cell_type": "markdown",
   "id": "ea0e70fd",
   "metadata": {},
   "source": [
    "***Train a linear regression model on the data***\n"
   ]
  },
  {
   "cell_type": "code",
   "execution_count": 58,
   "id": "1d7a32a0",
   "metadata": {},
   "outputs": [
    {
     "data": {
      "text/html": [
       "<style>#sk-container-id-2 {color: black;background-color: white;}#sk-container-id-2 pre{padding: 0;}#sk-container-id-2 div.sk-toggleable {background-color: white;}#sk-container-id-2 label.sk-toggleable__label {cursor: pointer;display: block;width: 100%;margin-bottom: 0;padding: 0.3em;box-sizing: border-box;text-align: center;}#sk-container-id-2 label.sk-toggleable__label-arrow:before {content: \"▸\";float: left;margin-right: 0.25em;color: #696969;}#sk-container-id-2 label.sk-toggleable__label-arrow:hover:before {color: black;}#sk-container-id-2 div.sk-estimator:hover label.sk-toggleable__label-arrow:before {color: black;}#sk-container-id-2 div.sk-toggleable__content {max-height: 0;max-width: 0;overflow: hidden;text-align: left;background-color: #f0f8ff;}#sk-container-id-2 div.sk-toggleable__content pre {margin: 0.2em;color: black;border-radius: 0.25em;background-color: #f0f8ff;}#sk-container-id-2 input.sk-toggleable__control:checked~div.sk-toggleable__content {max-height: 200px;max-width: 100%;overflow: auto;}#sk-container-id-2 input.sk-toggleable__control:checked~label.sk-toggleable__label-arrow:before {content: \"▾\";}#sk-container-id-2 div.sk-estimator input.sk-toggleable__control:checked~label.sk-toggleable__label {background-color: #d4ebff;}#sk-container-id-2 div.sk-label input.sk-toggleable__control:checked~label.sk-toggleable__label {background-color: #d4ebff;}#sk-container-id-2 input.sk-hidden--visually {border: 0;clip: rect(1px 1px 1px 1px);clip: rect(1px, 1px, 1px, 1px);height: 1px;margin: -1px;overflow: hidden;padding: 0;position: absolute;width: 1px;}#sk-container-id-2 div.sk-estimator {font-family: monospace;background-color: #f0f8ff;border: 1px dotted black;border-radius: 0.25em;box-sizing: border-box;margin-bottom: 0.5em;}#sk-container-id-2 div.sk-estimator:hover {background-color: #d4ebff;}#sk-container-id-2 div.sk-parallel-item::after {content: \"\";width: 100%;border-bottom: 1px solid gray;flex-grow: 1;}#sk-container-id-2 div.sk-label:hover label.sk-toggleable__label {background-color: #d4ebff;}#sk-container-id-2 div.sk-serial::before {content: \"\";position: absolute;border-left: 1px solid gray;box-sizing: border-box;top: 0;bottom: 0;left: 50%;z-index: 0;}#sk-container-id-2 div.sk-serial {display: flex;flex-direction: column;align-items: center;background-color: white;padding-right: 0.2em;padding-left: 0.2em;position: relative;}#sk-container-id-2 div.sk-item {position: relative;z-index: 1;}#sk-container-id-2 div.sk-parallel {display: flex;align-items: stretch;justify-content: center;background-color: white;position: relative;}#sk-container-id-2 div.sk-item::before, #sk-container-id-2 div.sk-parallel-item::before {content: \"\";position: absolute;border-left: 1px solid gray;box-sizing: border-box;top: 0;bottom: 0;left: 50%;z-index: -1;}#sk-container-id-2 div.sk-parallel-item {display: flex;flex-direction: column;z-index: 1;position: relative;background-color: white;}#sk-container-id-2 div.sk-parallel-item:first-child::after {align-self: flex-end;width: 50%;}#sk-container-id-2 div.sk-parallel-item:last-child::after {align-self: flex-start;width: 50%;}#sk-container-id-2 div.sk-parallel-item:only-child::after {width: 0;}#sk-container-id-2 div.sk-dashed-wrapped {border: 1px dashed gray;margin: 0 0.4em 0.5em 0.4em;box-sizing: border-box;padding-bottom: 0.4em;background-color: white;}#sk-container-id-2 div.sk-label label {font-family: monospace;font-weight: bold;display: inline-block;line-height: 1.2em;}#sk-container-id-2 div.sk-label-container {text-align: center;}#sk-container-id-2 div.sk-container {/* jupyter's `normalize.less` sets `[hidden] { display: none; }` but bootstrap.min.css set `[hidden] { display: none !important; }` so we also need the `!important` here to be able to override the default hidden behavior on the sphinx rendered scikit-learn.org. See: https://github.com/scikit-learn/scikit-learn/issues/21755 */display: inline-block !important;position: relative;}#sk-container-id-2 div.sk-text-repr-fallback {display: none;}</style><div id=\"sk-container-id-2\" class=\"sk-top-container\"><div class=\"sk-text-repr-fallback\"><pre>LinearRegression()</pre><b>In a Jupyter environment, please rerun this cell to show the HTML representation or trust the notebook. <br />On GitHub, the HTML representation is unable to render, please try loading this page with nbviewer.org.</b></div><div class=\"sk-container\" hidden><div class=\"sk-item\"><div class=\"sk-estimator sk-toggleable\"><input class=\"sk-toggleable__control sk-hidden--visually\" id=\"sk-estimator-id-2\" type=\"checkbox\" checked><label for=\"sk-estimator-id-2\" class=\"sk-toggleable__label sk-toggleable__label-arrow\">LinearRegression</label><div class=\"sk-toggleable__content\"><pre>LinearRegression()</pre></div></div></div></div></div>"
      ],
      "text/plain": [
       "LinearRegression()"
      ]
     },
     "execution_count": 58,
     "metadata": {},
     "output_type": "execute_result"
    },
    {
     "data": {
      "text/html": [
       "<style>#sk-container-id-2 {color: black;background-color: white;}#sk-container-id-2 pre{padding: 0;}#sk-container-id-2 div.sk-toggleable {background-color: white;}#sk-container-id-2 label.sk-toggleable__label {cursor: pointer;display: block;width: 100%;margin-bottom: 0;padding: 0.3em;box-sizing: border-box;text-align: center;}#sk-container-id-2 label.sk-toggleable__label-arrow:before {content: \"▸\";float: left;margin-right: 0.25em;color: #696969;}#sk-container-id-2 label.sk-toggleable__label-arrow:hover:before {color: black;}#sk-container-id-2 div.sk-estimator:hover label.sk-toggleable__label-arrow:before {color: black;}#sk-container-id-2 div.sk-toggleable__content {max-height: 0;max-width: 0;overflow: hidden;text-align: left;background-color: #f0f8ff;}#sk-container-id-2 div.sk-toggleable__content pre {margin: 0.2em;color: black;border-radius: 0.25em;background-color: #f0f8ff;}#sk-container-id-2 input.sk-toggleable__control:checked~div.sk-toggleable__content {max-height: 200px;max-width: 100%;overflow: auto;}#sk-container-id-2 input.sk-toggleable__control:checked~label.sk-toggleable__label-arrow:before {content: \"▾\";}#sk-container-id-2 div.sk-estimator input.sk-toggleable__control:checked~label.sk-toggleable__label {background-color: #d4ebff;}#sk-container-id-2 div.sk-label input.sk-toggleable__control:checked~label.sk-toggleable__label {background-color: #d4ebff;}#sk-container-id-2 input.sk-hidden--visually {border: 0;clip: rect(1px 1px 1px 1px);clip: rect(1px, 1px, 1px, 1px);height: 1px;margin: -1px;overflow: hidden;padding: 0;position: absolute;width: 1px;}#sk-container-id-2 div.sk-estimator {font-family: monospace;background-color: #f0f8ff;border: 1px dotted black;border-radius: 0.25em;box-sizing: border-box;margin-bottom: 0.5em;}#sk-container-id-2 div.sk-estimator:hover {background-color: #d4ebff;}#sk-container-id-2 div.sk-parallel-item::after {content: \"\";width: 100%;border-bottom: 1px solid gray;flex-grow: 1;}#sk-container-id-2 div.sk-label:hover label.sk-toggleable__label {background-color: #d4ebff;}#sk-container-id-2 div.sk-serial::before {content: \"\";position: absolute;border-left: 1px solid gray;box-sizing: border-box;top: 0;bottom: 0;left: 50%;z-index: 0;}#sk-container-id-2 div.sk-serial {display: flex;flex-direction: column;align-items: center;background-color: white;padding-right: 0.2em;padding-left: 0.2em;position: relative;}#sk-container-id-2 div.sk-item {position: relative;z-index: 1;}#sk-container-id-2 div.sk-parallel {display: flex;align-items: stretch;justify-content: center;background-color: white;position: relative;}#sk-container-id-2 div.sk-item::before, #sk-container-id-2 div.sk-parallel-item::before {content: \"\";position: absolute;border-left: 1px solid gray;box-sizing: border-box;top: 0;bottom: 0;left: 50%;z-index: -1;}#sk-container-id-2 div.sk-parallel-item {display: flex;flex-direction: column;z-index: 1;position: relative;background-color: white;}#sk-container-id-2 div.sk-parallel-item:first-child::after {align-self: flex-end;width: 50%;}#sk-container-id-2 div.sk-parallel-item:last-child::after {align-self: flex-start;width: 50%;}#sk-container-id-2 div.sk-parallel-item:only-child::after {width: 0;}#sk-container-id-2 div.sk-dashed-wrapped {border: 1px dashed gray;margin: 0 0.4em 0.5em 0.4em;box-sizing: border-box;padding-bottom: 0.4em;background-color: white;}#sk-container-id-2 div.sk-label label {font-family: monospace;font-weight: bold;display: inline-block;line-height: 1.2em;}#sk-container-id-2 div.sk-label-container {text-align: center;}#sk-container-id-2 div.sk-container {/* jupyter's `normalize.less` sets `[hidden] { display: none; }` but bootstrap.min.css set `[hidden] { display: none !important; }` so we also need the `!important` here to be able to override the default hidden behavior on the sphinx rendered scikit-learn.org. See: https://github.com/scikit-learn/scikit-learn/issues/21755 */display: inline-block !important;position: relative;}#sk-container-id-2 div.sk-text-repr-fallback {display: none;}</style><div id=\"sk-container-id-2\" class=\"sk-top-container\"><div class=\"sk-text-repr-fallback\"><pre>LinearRegression()</pre><b>In a Jupyter environment, please rerun this cell to show the HTML representation or trust the notebook. <br />On GitHub, the HTML representation is unable to render, please try loading this page with nbviewer.org.</b></div><div class=\"sk-container\" hidden><div class=\"sk-item\"><div class=\"sk-estimator sk-toggleable\"><input class=\"sk-toggleable__control sk-hidden--visually\" id=\"sk-estimator-id-2\" type=\"checkbox\" checked><label for=\"sk-estimator-id-2\" class=\"sk-toggleable__label sk-toggleable__label-arrow\">LinearRegression</label><div class=\"sk-toggleable__content\"><pre>LinearRegression()</pre></div></div></div></div></div>"
      ],
      "text/plain": [
       "LinearRegression()"
      ]
     },
     "execution_count": 58,
     "metadata": {},
     "output_type": "execute_result"
    }
   ],
   "source": [
    "from sklearn.linear_model import LinearRegression\n",
    "linear_reg = LinearRegression()\n",
    "linear_reg.fit(X, y.values)"
   ]
  },
  {
   "cell_type": "markdown",
   "id": "b6b039a6",
   "metadata": {},
   "source": [
    "***Make predictions using the linear regression model***"
   ]
  },
  {
   "cell_type": "code",
   "execution_count": 59,
   "id": "1dee116c",
   "metadata": {},
   "outputs": [],
   "source": [
    "y_pred=linear_reg.predict(X)"
   ]
  },
  {
   "cell_type": "markdown",
   "id": "36c5f683",
   "metadata": {},
   "source": [
    "***Calculate the root mean squared error (RMSE) of the linear regression model***"
   ]
  },
  {
   "cell_type": "code",
   "execution_count": 60,
   "id": "18c4ec19",
   "metadata": {},
   "outputs": [
    {
     "name": "stdout",
     "output_type": "stream",
     "text": [
      "Linear Regression RMSE: 7877.705139750936\n",
      "Linear Regression RMSE: 7877.705139750936\n"
     ]
    }
   ],
   "source": [
    "from sklearn.metrics import mean_squared_error, mean_absolute_error\n",
    "error = np.sqrt(mean_squared_error(y, y_pred))\n",
    "print(\"Linear Regression RMSE:\", error)"
   ]
  },
  {
   "cell_type": "code",
   "execution_count": 61,
   "id": "0ab0ad68",
   "metadata": {},
   "outputs": [],
   "source": [
    "from sklearn.ensemble import RandomForestRegressor\n",
    "random_forest_reg = RandomForestRegressor(random_state=0)\n",
    "random_forest_reg.fit(X, y.values)\n",
    "y_pred=random_forest_reg.predict(X)"
   ]
  },
  {
   "cell_type": "code",
   "execution_count": 62,
   "id": "72505e79",
   "metadata": {},
   "outputs": [
    {
     "name": "stdout",
     "output_type": "stream",
     "text": [
      "Error Reult 1672.3651939030547\n",
      "Error Reult 1672.3651939030547\n"
     ]
    }
   ],
   "source": [
    "from sklearn.metrics import mean_squared_error, mean_absolute_error\n",
    "error = np.sqrt(mean_squared_error(y, y_pred))\n",
    "print(\"Error Reult\", error)"
   ]
  },
  {
   "cell_type": "code",
   "execution_count": 63,
   "id": "88e30fa1",
   "metadata": {},
   "outputs": [
    {
     "data": {
      "text/html": [
       "<div>\n",
       "<style scoped>\n",
       "    .dataframe tbody tr th:only-of-type {\n",
       "        vertical-align: middle;\n",
       "    }\n",
       "\n",
       "    .dataframe tbody tr th {\n",
       "        vertical-align: top;\n",
       "    }\n",
       "\n",
       "    .dataframe thead th {\n",
       "        text-align: right;\n",
       "    }\n",
       "</style>\n",
       "<table border=\"1\" class=\"dataframe\">\n",
       "  <thead>\n",
       "    <tr style=\"text-align: right;\">\n",
       "      <th></th>\n",
       "      <th>car</th>\n",
       "      <th>model</th>\n",
       "      <th>year</th>\n",
       "      <th>transmission</th>\n",
       "      <th>mileage</th>\n",
       "      <th>price</th>\n",
       "      <th>car_encoded</th>\n",
       "      <th>model_encoded</th>\n",
       "      <th>transmission_encoded</th>\n",
       "    </tr>\n",
       "  </thead>\n",
       "  <tbody>\n",
       "    <tr>\n",
       "      <th>0</th>\n",
       "      <td>audi</td>\n",
       "      <td>A1</td>\n",
       "      <td>2017.0</td>\n",
       "      <td>Manual</td>\n",
       "      <td>15735.0</td>\n",
       "      <td>12500.0</td>\n",
       "      <td>0</td>\n",
       "      <td>9</td>\n",
       "      <td>1</td>\n",
       "    </tr>\n",
       "    <tr>\n",
       "      <th>1</th>\n",
       "      <td>audi</td>\n",
       "      <td>A6</td>\n",
       "      <td>2016.0</td>\n",
       "      <td>Automatic</td>\n",
       "      <td>36203.0</td>\n",
       "      <td>16500.0</td>\n",
       "      <td>0</td>\n",
       "      <td>13</td>\n",
       "      <td>0</td>\n",
       "    </tr>\n",
       "    <tr>\n",
       "      <th>2</th>\n",
       "      <td>audi</td>\n",
       "      <td>A1</td>\n",
       "      <td>2016.0</td>\n",
       "      <td>Manual</td>\n",
       "      <td>29946.0</td>\n",
       "      <td>11000.0</td>\n",
       "      <td>0</td>\n",
       "      <td>9</td>\n",
       "      <td>1</td>\n",
       "    </tr>\n",
       "    <tr>\n",
       "      <th>3</th>\n",
       "      <td>audi</td>\n",
       "      <td>A4</td>\n",
       "      <td>2017.0</td>\n",
       "      <td>Automatic</td>\n",
       "      <td>25952.0</td>\n",
       "      <td>16800.0</td>\n",
       "      <td>0</td>\n",
       "      <td>11</td>\n",
       "      <td>0</td>\n",
       "    </tr>\n",
       "    <tr>\n",
       "      <th>4</th>\n",
       "      <td>audi</td>\n",
       "      <td>A3</td>\n",
       "      <td>2019.0</td>\n",
       "      <td>Manual</td>\n",
       "      <td>1998.0</td>\n",
       "      <td>17300.0</td>\n",
       "      <td>0</td>\n",
       "      <td>10</td>\n",
       "      <td>1</td>\n",
       "    </tr>\n",
       "  </tbody>\n",
       "</table>\n",
       "</div>"
      ],
      "text/plain": [
       "    car model    year transmission  mileage    price  car_encoded  \\\n",
       "0  audi    A1  2017.0       Manual  15735.0  12500.0            0   \n",
       "1  audi    A6  2016.0    Automatic  36203.0  16500.0            0   \n",
       "2  audi    A1  2016.0       Manual  29946.0  11000.0            0   \n",
       "3  audi    A4  2017.0    Automatic  25952.0  16800.0            0   \n",
       "4  audi    A3  2019.0       Manual   1998.0  17300.0            0   \n",
       "\n",
       "   model_encoded  transmission_encoded  \n",
       "0              9                     1  \n",
       "1             13                     0  \n",
       "2              9                     1  \n",
       "3             11                     0  \n",
       "4             10                     1  "
      ]
     },
     "execution_count": 63,
     "metadata": {},
     "output_type": "execute_result"
    },
    {
     "data": {
      "text/html": [
       "<div>\n",
       "<style scoped>\n",
       "    .dataframe tbody tr th:only-of-type {\n",
       "        vertical-align: middle;\n",
       "    }\n",
       "\n",
       "    .dataframe tbody tr th {\n",
       "        vertical-align: top;\n",
       "    }\n",
       "\n",
       "    .dataframe thead th {\n",
       "        text-align: right;\n",
       "    }\n",
       "</style>\n",
       "<table border=\"1\" class=\"dataframe\">\n",
       "  <thead>\n",
       "    <tr style=\"text-align: right;\">\n",
       "      <th></th>\n",
       "      <th>car</th>\n",
       "      <th>model</th>\n",
       "      <th>year</th>\n",
       "      <th>transmission</th>\n",
       "      <th>mileage</th>\n",
       "      <th>price</th>\n",
       "      <th>car_encoded</th>\n",
       "      <th>model_encoded</th>\n",
       "      <th>transmission_encoded</th>\n",
       "    </tr>\n",
       "  </thead>\n",
       "  <tbody>\n",
       "    <tr>\n",
       "      <th>0</th>\n",
       "      <td>audi</td>\n",
       "      <td>A1</td>\n",
       "      <td>2017.0</td>\n",
       "      <td>Manual</td>\n",
       "      <td>15735.0</td>\n",
       "      <td>12500.0</td>\n",
       "      <td>0</td>\n",
       "      <td>9</td>\n",
       "      <td>1</td>\n",
       "    </tr>\n",
       "    <tr>\n",
       "      <th>1</th>\n",
       "      <td>audi</td>\n",
       "      <td>A6</td>\n",
       "      <td>2016.0</td>\n",
       "      <td>Automatic</td>\n",
       "      <td>36203.0</td>\n",
       "      <td>16500.0</td>\n",
       "      <td>0</td>\n",
       "      <td>13</td>\n",
       "      <td>0</td>\n",
       "    </tr>\n",
       "    <tr>\n",
       "      <th>2</th>\n",
       "      <td>audi</td>\n",
       "      <td>A1</td>\n",
       "      <td>2016.0</td>\n",
       "      <td>Manual</td>\n",
       "      <td>29946.0</td>\n",
       "      <td>11000.0</td>\n",
       "      <td>0</td>\n",
       "      <td>9</td>\n",
       "      <td>1</td>\n",
       "    </tr>\n",
       "    <tr>\n",
       "      <th>3</th>\n",
       "      <td>audi</td>\n",
       "      <td>A4</td>\n",
       "      <td>2017.0</td>\n",
       "      <td>Automatic</td>\n",
       "      <td>25952.0</td>\n",
       "      <td>16800.0</td>\n",
       "      <td>0</td>\n",
       "      <td>11</td>\n",
       "      <td>0</td>\n",
       "    </tr>\n",
       "    <tr>\n",
       "      <th>4</th>\n",
       "      <td>audi</td>\n",
       "      <td>A3</td>\n",
       "      <td>2019.0</td>\n",
       "      <td>Manual</td>\n",
       "      <td>1998.0</td>\n",
       "      <td>17300.0</td>\n",
       "      <td>0</td>\n",
       "      <td>10</td>\n",
       "      <td>1</td>\n",
       "    </tr>\n",
       "  </tbody>\n",
       "</table>\n",
       "</div>"
      ],
      "text/plain": [
       "    car model    year transmission  mileage    price  car_encoded  \\\n",
       "0  audi    A1  2017.0       Manual  15735.0  12500.0            0   \n",
       "1  audi    A6  2016.0    Automatic  36203.0  16500.0            0   \n",
       "2  audi    A1  2016.0       Manual  29946.0  11000.0            0   \n",
       "3  audi    A4  2017.0    Automatic  25952.0  16800.0            0   \n",
       "4  audi    A3  2019.0       Manual   1998.0  17300.0            0   \n",
       "\n",
       "   model_encoded  transmission_encoded  \n",
       "0              9                     1  \n",
       "1             13                     0  \n",
       "2              9                     1  \n",
       "3             11                     0  \n",
       "4             10                     1  "
      ]
     },
     "execution_count": 63,
     "metadata": {},
     "output_type": "execute_result"
    }
   ],
   "source": [
    "df.head(5)"
   ]
  },
  {
   "cell_type": "code",
   "execution_count": 64,
   "id": "3aa002f2",
   "metadata": {},
   "outputs": [
    {
     "name": "stderr",
     "output_type": "stream",
     "text": [
      "C:\\ProgramData\\anaconda3\\lib\\site-packages\\sklearn\\base.py:420: UserWarning: X does not have valid feature names, but RandomForestRegressor was fitted with feature names\n",
      "  warnings.warn(\n",
      "C:\\ProgramData\\anaconda3\\lib\\site-packages\\sklearn\\base.py:420: UserWarning: X does not have valid feature names, but RandomForestRegressor was fitted with feature names\n",
      "  warnings.warn(\n"
     ]
    },
    {
     "data": {
      "text/plain": [
       "array([13213.05])"
      ]
     },
     "execution_count": 64,
     "metadata": {},
     "output_type": "execute_result"
    },
    {
     "data": {
      "text/plain": [
       "array([13213.05])"
      ]
     },
     "execution_count": 64,
     "metadata": {},
     "output_type": "execute_result"
    }
   ],
   "source": [
    "random_forest_reg.predict(np.array([2017,15735,0,9,1]).reshape(1, -1))"
   ]
  },
  {
   "cell_type": "markdown",
   "id": "84557740",
   "metadata": {},
   "source": [
    "***Save & Load the trained model and label encoders to a file using pickle***"
   ]
  },
  {
   "cell_type": "code",
   "execution_count": 65,
   "id": "80b4ffc3",
   "metadata": {},
   "outputs": [],
   "source": [
    "import pickle"
   ]
  },
  {
   "cell_type": "code",
   "execution_count": 66,
   "id": "296228ce",
   "metadata": {},
   "outputs": [],
   "source": [
    "data = {\"model\": random_forest_reg, \"le_cars\": le_cars}\n",
    "with open('model.pkl', 'wb') as f:\n",
    "    pickle.dump(random_forest_reg, f)\n",
    "\n",
    "with open('model.pkl', 'rb') as f:\n",
    "    model_loaded = pickle.load(f)"
   ]
  },
  {
   "cell_type": "code",
   "execution_count": 67,
   "id": "8fcee3a6",
   "metadata": {},
   "outputs": [
    {
     "data": {
      "text/plain": [
       "array([13213.05      , 18029.48      , 11592.76066667, ...,\n",
       "        2857.38      ,  1575.33      ,  2381.64      ])"
      ]
     },
     "execution_count": 67,
     "metadata": {},
     "output_type": "execute_result"
    },
    {
     "data": {
      "text/plain": [
       "array([13213.05      , 18029.48      , 11592.76066667, ...,\n",
       "        2857.38      ,  1575.33      ,  2381.64      ])"
      ]
     },
     "execution_count": 67,
     "metadata": {},
     "output_type": "execute_result"
    }
   ],
   "source": [
    "y_pred =  model_loaded.predict(X)\n",
    "y_pred"
   ]
  },
  {
   "cell_type": "markdown",
   "id": "7b5deb0b",
   "metadata": {},
   "source": [
    "**Gradio Interface**"
   ]
  },
  {
   "cell_type": "code",
   "execution_count": 73,
   "id": "7ac72704",
   "metadata": {},
   "outputs": [
    {
     "name": "stderr",
     "output_type": "stream",
     "text": [
      "C:\\Users\\skend\\AppData\\Roaming\\Python\\Python310\\site-packages\\gradio\\inputs.py:59: UserWarning: Usage of gradio.inputs is deprecated, and will not be supported in the future, please import your component from gradio.components\n",
      "  warnings.warn(\n",
      "C:\\Users\\skend\\AppData\\Roaming\\Python\\Python310\\site-packages\\gradio\\inputs.py:62: UserWarning: `optional` parameter is deprecated, and it has no effect\n",
      "  super().__init__(value=default, label=label, optional=optional)\n",
      "C:\\Users\\skend\\AppData\\Roaming\\Python\\Python310\\site-packages\\gradio\\inputs.py:89: UserWarning: Usage of gradio.inputs is deprecated, and will not be supported in the future, please import your component from gradio.components\n",
      "  warnings.warn(\n",
      "C:\\Users\\skend\\AppData\\Roaming\\Python\\Python310\\site-packages\\gradio\\inputs.py:93: UserWarning: `optional` parameter is deprecated, and it has no effect\n",
      "  super().__init__(\n",
      "C:\\Users\\skend\\AppData\\Roaming\\Python\\Python310\\site-packages\\gradio\\inputs.py:219: UserWarning: Usage of gradio.inputs is deprecated, and will not be supported in the future, please import your component from gradio.components\n",
      "  warnings.warn(\n",
      "C:\\Users\\skend\\AppData\\Roaming\\Python\\Python310\\site-packages\\gradio\\inputs.py:222: UserWarning: `optional` parameter is deprecated, and it has no effect\n",
      "  super().__init__(\n",
      "C:\\Users\\skend\\AppData\\Roaming\\Python\\Python310\\site-packages\\gradio\\inputs.py:59: UserWarning: Usage of gradio.inputs is deprecated, and will not be supported in the future, please import your component from gradio.components\n",
      "  warnings.warn(\n",
      "C:\\Users\\skend\\AppData\\Roaming\\Python\\Python310\\site-packages\\gradio\\inputs.py:62: UserWarning: `optional` parameter is deprecated, and it has no effect\n",
      "  super().__init__(value=default, label=label, optional=optional)\n",
      "C:\\Users\\skend\\AppData\\Roaming\\Python\\Python310\\site-packages\\gradio\\inputs.py:89: UserWarning: Usage of gradio.inputs is deprecated, and will not be supported in the future, please import your component from gradio.components\n",
      "  warnings.warn(\n",
      "C:\\Users\\skend\\AppData\\Roaming\\Python\\Python310\\site-packages\\gradio\\inputs.py:93: UserWarning: `optional` parameter is deprecated, and it has no effect\n",
      "  super().__init__(\n",
      "C:\\Users\\skend\\AppData\\Roaming\\Python\\Python310\\site-packages\\gradio\\inputs.py:219: UserWarning: Usage of gradio.inputs is deprecated, and will not be supported in the future, please import your component from gradio.components\n",
      "  warnings.warn(\n",
      "C:\\Users\\skend\\AppData\\Roaming\\Python\\Python310\\site-packages\\gradio\\inputs.py:222: UserWarning: `optional` parameter is deprecated, and it has no effect\n",
      "  super().__init__(\n"
     ]
    },
    {
     "name": "stdout",
     "output_type": "stream",
     "text": [
      "Running on local URL:  http://127.0.0.1:7866\n",
      "\n",
      "To create a public link, set `share=True` in `launch()`.\n",
      "Running on local URL:  http://127.0.0.1:7866\n",
      "\n",
      "To create a public link, set `share=True` in `launch()`.\n"
     ]
    },
    {
     "data": {
      "text/html": [
       "<div><iframe src=\"http://127.0.0.1:7866/\" width=\"100%\" height=\"500\" allow=\"autoplay; camera; microphone; clipboard-read; clipboard-write;\" frameborder=\"0\" allowfullscreen></iframe></div>"
      ],
      "text/plain": [
       "<IPython.core.display.HTML object>"
      ]
     },
     "metadata": {},
     "output_type": "display_data"
    },
    {
     "data": {
      "text/html": [
       "<div><iframe src=\"http://127.0.0.1:7866/\" width=\"100%\" height=\"500\" allow=\"autoplay; camera; microphone; clipboard-read; clipboard-write;\" frameborder=\"0\" allowfullscreen></iframe></div>"
      ],
      "text/plain": [
       "<IPython.core.display.HTML object>"
      ]
     },
     "metadata": {},
     "output_type": "display_data"
    },
    {
     "data": {
      "text/plain": []
     },
     "execution_count": 73,
     "metadata": {},
     "output_type": "execute_result"
    },
    {
     "data": {
      "text/plain": []
     },
     "execution_count": 73,
     "metadata": {},
     "output_type": "execute_result"
    },
    {
     "name": "stderr",
     "output_type": "stream",
     "text": [
      "Traceback (most recent call last):\n",
      "  File \"C:\\Users\\skend\\AppData\\Roaming\\Python\\Python310\\site-packages\\gradio\\routes.py\", line 422, in run_predict\n",
      "    output = await app.get_blocks().process_api(\n",
      "  File \"C:\\Users\\skend\\AppData\\Roaming\\Python\\Python310\\site-packages\\gradio\\blocks.py\", line 1323, in process_api\n",
      "    result = await self.call_function(\n",
      "  File \"C:\\Users\\skend\\AppData\\Roaming\\Python\\Python310\\site-packages\\gradio\\blocks.py\", line 1051, in call_function\n",
      "    prediction = await anyio.to_thread.run_sync(\n",
      "  File \"C:\\ProgramData\\anaconda3\\lib\\site-packages\\anyio\\to_thread.py\", line 28, in run_sync\n",
      "    return await get_asynclib().run_sync_in_worker_thread(func, *args, cancellable=cancellable,\n",
      "  File \"C:\\ProgramData\\anaconda3\\lib\\site-packages\\anyio\\_backends\\_asyncio.py\", line 818, in run_sync_in_worker_thread\n",
      "    return await future\n",
      "  File \"C:\\ProgramData\\anaconda3\\lib\\site-packages\\anyio\\_backends\\_asyncio.py\", line 754, in run\n",
      "    result = context.run(func, *args)\n",
      "  File \"C:\\Users\\skend\\AppData\\Local\\Temp\\ipykernel_7140\\1349671734.py\", line 3, in predict_price\n",
      "    car_encoded = car_encoder_loaded.transform([car])[0]\n",
      "NameError: name 'car_encoder_loaded' is not defined\n",
      "Traceback (most recent call last):\n",
      "  File \"C:\\Users\\skend\\AppData\\Roaming\\Python\\Python310\\site-packages\\gradio\\routes.py\", line 422, in run_predict\n",
      "    output = await app.get_blocks().process_api(\n",
      "  File \"C:\\Users\\skend\\AppData\\Roaming\\Python\\Python310\\site-packages\\gradio\\blocks.py\", line 1323, in process_api\n",
      "    result = await self.call_function(\n",
      "  File \"C:\\Users\\skend\\AppData\\Roaming\\Python\\Python310\\site-packages\\gradio\\blocks.py\", line 1051, in call_function\n",
      "    prediction = await anyio.to_thread.run_sync(\n",
      "  File \"C:\\ProgramData\\anaconda3\\lib\\site-packages\\anyio\\to_thread.py\", line 28, in run_sync\n",
      "    return await get_asynclib().run_sync_in_worker_thread(func, *args, cancellable=cancellable,\n",
      "  File \"C:\\ProgramData\\anaconda3\\lib\\site-packages\\anyio\\_backends\\_asyncio.py\", line 818, in run_sync_in_worker_thread\n",
      "    return await future\n",
      "  File \"C:\\ProgramData\\anaconda3\\lib\\site-packages\\anyio\\_backends\\_asyncio.py\", line 754, in run\n",
      "    result = context.run(func, *args)\n",
      "  File \"C:\\Users\\skend\\AppData\\Local\\Temp\\ipykernel_7140\\1349671734.py\", line 3, in predict_price\n",
      "    car_encoded = car_encoder_loaded.transform([car])[0]\n",
      "NameError: name 'car_encoder_loaded' is not defined\n"
     ]
    }
   ],
   "source": [
    "import gradio as gr\n",
    "def predict_price(year, mileage, car, model, transmission):\n",
    "    car_encoded = car_encoder_loaded.transform([car])[0]\n",
    "    model_encoded = le_cars.transform([model])[0]\n",
    "    transmission_encoded = le_cars.transform([transmission])[0]\n",
    "    features = np.array([year, mileage, car_encoded, model_encoded, transmission_encoded]).reshape(1, -1)\n",
    "    prediction = model_loaded.predict(features)\n",
    "    return prediction[0]\n",
    "\n",
    "\n",
    "car_types = df['car'].unique().tolist()\n",
    "model_names = df['model'].unique().tolist()\n",
    "transmission_types = df['transmission'].unique().tolist()\n",
    "\n",
    "iface = gr.Interface(\n",
    "    fn=predict_price,\n",
    "    inputs=[\n",
    "        gr.inputs.Number(label=\"Year\"),\n",
    "        gr.inputs.Slider(minimum=0, maximum=200000, default=50000, label=\"Mileage\"),\n",
    "        gr.inputs.Dropdown(car_types, label=\"Car Type\"),\n",
    "        gr.inputs.Dropdown(model_names, label=\"Model\"),\n",
    "        gr.inputs.Dropdown(transmission_types, label=\"Transmission\"),\n",
    "    ],\n",
    "    outputs=\"number\",\n",
    "    title=\"Car Price Predictor\",\n",
    "    description=\"Predict the price of a car based on its features.\",\n",
    "    examples=[\n",
    "        [2017, 15735, car_types[0], model_names[0], transmission_types[0]],\n",
    "        [2020, 50000, car_types[1], model_names[1], transmission_types[1]],\n",
    "    ]\n",
    ")\n",
    "\n",
    "iface.launch()"
   ]
  },
  {
   "cell_type": "code",
   "execution_count": null,
   "id": "1cca7e08",
   "metadata": {},
   "outputs": [],
   "source": []
  }
 ],
 "metadata": {
  "kernelspec": {
   "display_name": "Python 3 (ipykernel)",
   "language": "python",
   "name": "python3"
  },
  "language_info": {
   "codemirror_mode": {
    "name": "ipython",
    "version": 3
   },
   "file_extension": ".py",
   "mimetype": "text/x-python",
   "name": "python",
   "nbconvert_exporter": "python",
   "pygments_lexer": "ipython3",
   "version": "3.10.9"
  }
 },
 "nbformat": 4,
 "nbformat_minor": 5
}
